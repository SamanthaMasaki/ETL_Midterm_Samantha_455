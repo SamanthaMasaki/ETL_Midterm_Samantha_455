{
 "cells": [
  {
   "cell_type": "code",
   "execution_count": 12,
   "id": "47b8c23c",
   "metadata": {},
   "outputs": [],
   "source": [
    "#load the required libraries.\n",
    "import pandas as pd\n"
   ]
  },
  {
   "cell_type": "markdown",
   "id": "d84b6b0c",
   "metadata": {},
   "source": [
    "## Loading the Data"
   ]
  },
  {
   "cell_type": "code",
   "execution_count": 13,
   "id": "16ef30c0",
   "metadata": {},
   "outputs": [],
   "source": [
    "#Load the Raw Data\n",
    "raw_data = pd.read_csv(r\"C:\\Users\\ADMIN\\Downloads\\raw_data.csv\")\n",
    "#Load Incremental Data\n",
    "incremental_data = pd.read_csv(r\"C:\\Users\\ADMIN\\Downloads\\incremental_data.csv\")"
   ]
  },
  {
   "cell_type": "code",
   "execution_count": 14,
   "id": "fcb00484",
   "metadata": {},
   "outputs": [
    {
     "name": "stdout",
     "output_type": "stream",
     "text": [
      "Raw Data:\n",
      "   order_id customer_name product  quantity  unit_price  order_date region\n",
      "0         1         Diana  Tablet       NaN       500.0  20/01/2024  South\n",
      "1         2           Eve  Laptop       NaN         NaN  29/04/2024  North\n",
      "2         3       Charlie  Laptop       2.0       250.0  08/01/2024    NaN\n",
      "3         4           Eve  Laptop       2.0       750.0  07/01/2024   West\n",
      "4         5           Eve  Tablet       3.0         NaN  07/03/2024  South\n",
      "\\nIncremental Data:\n",
      "   order_id customer_name product  quantity  unit_price  order_date   region\n",
      "0       101         Alice  Laptop       NaN       900.0  2024-05-09  Central\n",
      "1       102           NaN  Laptop       1.0       300.0  2024-05-07  Central\n",
      "2       103           NaN  Laptop       1.0       600.0  2024-05-04  Central\n",
      "3       104           NaN  Tablet       NaN       300.0  2024-05-26  Central\n",
      "4       105         Heidi  Tablet       2.0       600.0  2024-05-21    North\n",
      "\n",
      "Raw Data Info:\n",
      "<class 'pandas.core.frame.DataFrame'>\n",
      "RangeIndex: 100 entries, 0 to 99\n",
      "Data columns (total 7 columns):\n",
      " #   Column         Non-Null Count  Dtype  \n",
      "---  ------         --------------  -----  \n",
      " 0   order_id       100 non-null    int64  \n",
      " 1   customer_name  99 non-null     object \n",
      " 2   product        100 non-null    object \n",
      " 3   quantity       74 non-null     float64\n",
      " 4   unit_price     65 non-null     float64\n",
      " 5   order_date     99 non-null     object \n",
      " 6   region         75 non-null     object \n",
      "dtypes: float64(2), int64(1), object(4)\n",
      "memory usage: 5.6+ KB\n",
      "None\n",
      "\\nIncremental Data Info:\n",
      "<class 'pandas.core.frame.DataFrame'>\n",
      "RangeIndex: 10 entries, 0 to 9\n",
      "Data columns (total 7 columns):\n",
      " #   Column         Non-Null Count  Dtype  \n",
      "---  ------         --------------  -----  \n",
      " 0   order_id       10 non-null     int64  \n",
      " 1   customer_name  4 non-null      object \n",
      " 2   product        10 non-null     object \n",
      " 3   quantity       6 non-null      float64\n",
      " 4   unit_price     10 non-null     float64\n",
      " 5   order_date     10 non-null     object \n",
      " 6   region         8 non-null      object \n",
      "dtypes: float64(2), int64(1), object(4)\n",
      "memory usage: 692.0+ bytes\n",
      "None\n"
     ]
    }
   ],
   "source": [
    "## Display the first few rows of both datasets\n",
    "print(\"Raw Data:\")\n",
    "print(raw_data.head())\n",
    "print(r\"\\nIncremental Data:\")\n",
    "print(incremental_data.head())\n",
    "\n",
    "# Display the info of the raw data\n",
    "print(\"\\nRaw Data Info:\")\n",
    "print(raw_data.info())\n",
    "\n",
    "# Display the info of the incremental data\n",
    "print(r\"\\nIncremental Data Info:\")\n",
    "print(incremental_data.info())"
   ]
  },
  {
   "cell_type": "code",
   "execution_count": 15,
   "id": "46c54a05",
   "metadata": {},
   "outputs": [
    {
     "name": "stdout",
     "output_type": "stream",
     "text": [
      "\n",
      "Observations:\n",
      "-Missing values in the raw data: 88\n",
      "-Missing values in the incremental data: 12\n",
      "-potential duplicates in the raw data: 1\n",
      "-potential duplicates in the incremental data: 0\n"
     ]
    }
   ],
   "source": [
    "# Making observations on the data\n",
    "print(\"\\nObservations:\")\n",
    "print(\"-Missing values in the raw data:\", raw_data.isnull().sum().sum())\n",
    "print(\"-Missing values in the incremental data:\", incremental_data.isnull().sum().sum())\n",
    "print(\"-potential duplicates in the raw data:\", raw_data.duplicated().sum())\n",
    "print(\"-potential duplicates in the incremental data:\", incremental_data.duplicated().sum())"
   ]
  },
  {
   "cell_type": "code",
   "execution_count": 19,
   "id": "79b1f4b3",
   "metadata": {},
   "outputs": [],
   "source": [
    "#Making Directory\n",
    "#save the raw data to a new directory\n",
    "raw_data.to_csv(r\"C:\\Users\\ADMIN\\Downloads\\Data\\raw_data\", index = False)\n",
    "#save the incremental data to a new directory\n",
    "incremental_data.to_csv(r\"C:\\Users\\ADMIN\\Downloads\\Data\\incremental_data\", index = False)\n"
   ]
  }
 ],
 "metadata": {
  "kernelspec": {
   "display_name": "Python 3",
   "language": "python",
   "name": "python3"
  },
  "language_info": {
   "codemirror_mode": {
    "name": "ipython",
    "version": 3
   },
   "file_extension": ".py",
   "mimetype": "text/x-python",
   "name": "python",
   "nbconvert_exporter": "python",
   "pygments_lexer": "ipython3",
   "version": "3.11.9"
  }
 },
 "nbformat": 4,
 "nbformat_minor": 5
}
