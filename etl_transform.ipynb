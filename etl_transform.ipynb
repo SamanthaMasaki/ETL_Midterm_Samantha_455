{
 "cells": [
  {
   "cell_type": "markdown",
   "id": "84aae2a9",
   "metadata": {},
   "source": [
    "## Rawa Data"
   ]
  },
  {
   "cell_type": "code",
   "execution_count": 16,
   "id": "e1c465c2",
   "metadata": {},
   "outputs": [],
   "source": [
    "#load the required libraries.\n",
    "import pandas as pd\n",
    "from datetime import datetime\n",
    "#Load the Raw Data\n",
    "raw_data = pd.read_csv(r\"C:\\Users\\ADMIN\\Downloads\\raw_data.csv\")\n",
    "#Load Incremental Data\n",
    "incremental_data = pd.read_csv(r\"C:\\Users\\ADMIN\\Downloads\\incremental_data.csv\")"
   ]
  },
  {
   "cell_type": "markdown",
   "id": "f74f6bce",
   "metadata": {},
   "source": [
    "Full Transform"
   ]
  },
  {
   "cell_type": "code",
   "execution_count": 17,
   "id": "f4ddfb87",
   "metadata": {},
   "outputs": [
    {
     "name": "stdout",
     "output_type": "stream",
     "text": [
      "Transformed raw data: Missing values and duplicates handled.\n",
      "Total price calculated and added to the dataset.\n",
      "    order_id customer_name  product  quantity  unit_price  \\\n",
      "3          4           Eve   Laptop       2.0       750.0   \n",
      "6          7       Charlie  Monitor       2.0       750.0   \n",
      "9         10           Eve  Monitor       1.0       500.0   \n",
      "11        12       Charlie   Tablet       2.0       750.0   \n",
      "12        13         Frank   Tablet       1.0       750.0   \n",
      "\n",
      "             order_date  total_price  \n",
      "3   2024-07-01 00:00:00       1500.0  \n",
      "6   2024-02-02 00:00:00       1500.0  \n",
      "9   2024-02-28 00:00:00        500.0  \n",
      "11  2024-03-26 00:00:00       1500.0  \n",
      "12  2024-04-28 00:00:00        750.0  \n"
     ]
    }
   ],
   "source": [
    "# full transformation on raw data\n",
    "transfromed_rfull_data = raw_data.copy()\n",
    "\n",
    "# Transform 1: Handle missing values and duplicates\n",
    "transfromed_rfull_data.dropna(inplace=True)  # Drop rows with any missing values\n",
    "transfromed_rfull_data.drop_duplicates(inplace=True)  # Drop duplicate rows\n",
    "print(\"Transformed raw data: Missing values and duplicates handled.\")\n",
    "\n",
    "\n",
    "# Transformation 2: Enrichment- Total Price Calculation\n",
    "transfromed_rfull_data['total_price'] = transfromed_rfull_data['quantity'] * transfromed_rfull_data['unit_price']\n",
    "print(\"Total price calculated and added to the dataset.\")\n",
    "\n",
    "\n",
    "# Transformation 3: Structural - Datetime Formatting\n",
    "transfromed_rfull_data['order_date'] = pd.to_datetime(transfromed_rfull_data['order_date'], format='mixed')\n",
    "transfromed_rfull_data['order_date'] = transfromed_rfull_data['order_date'].dt.strftime('%Y-%m-%d %H:%M:%S')\n",
    "\n",
    "\n",
    "# Transformation 4: Filtering - Drop Unnecessary Columns\n",
    "columns_to_drop = ['region']  # Example columns to drop\n",
    "transfromed_rfull_data.drop(columns=columns_to_drop, inplace=True, errors='ignore')  # Drop specified columns\n",
    "\n",
    "\n",
    "print(transfromed_rfull_data.head())"
   ]
  },
  {
   "cell_type": "code",
   "execution_count": 18,
   "id": "e856fabc",
   "metadata": {},
   "outputs": [],
   "source": [
    "# save the transformed raw data\n",
    "transfromed_rfull_data.to_csv(r\"C:\\Users\\ADMIN\\Downloads\\Transformed\\transformed_full.csv\", index=False)"
   ]
  },
  {
   "cell_type": "code",
   "execution_count": 19,
   "id": "85f26ddf",
   "metadata": {},
   "outputs": [
    {
     "name": "stdout",
     "output_type": "stream",
     "text": [
      "Transformed incremental data: Missing values and duplicates handled.\n",
      "Total price calculated and added to the incremental dataset.\n",
      "   order_id customer_name product  quantity  unit_price           order_date  \\\n",
      "4       105         Heidi  Tablet       2.0       600.0  2024-05-21 00:00:00   \n",
      "8       109         Grace  Laptop       2.0       600.0  2024-05-29 00:00:00   \n",
      "\n",
      "   total_price  \n",
      "4       1200.0  \n",
      "8       1200.0  \n"
     ]
    }
   ],
   "source": [
    "# Incremental transformation on incremental data\n",
    "transformed_incremental_data = incremental_data.copy()\n",
    "\n",
    "# Transform 1: Handle missing values and duplicates\n",
    "transformed_incremental_data.dropna(inplace=True)  # Drop rows with any missing values\n",
    "transformed_incremental_data.drop_duplicates(inplace=True)  # Drop duplicate rows\n",
    "print(\"Transformed incremental data: Missing values and duplicates handled.\")\n",
    "\n",
    "# Transformation 2: Enrichment - Total Price Calculation\n",
    "transformed_incremental_data['total_price'] = transformed_incremental_data['quantity'] * transformed_incremental_data['unit_price']\n",
    "print(\"Total price calculated and added to the incremental dataset.\")\n",
    "\n",
    "# Transformation 3: Structural - Datetime Formatting\n",
    "transformed_incremental_data['order_date'] = pd.to_datetime(transformed_incremental_data['order_date'], format='mixed')\n",
    "transformed_incremental_data['order_date'] = transformed_incremental_data['order_date'].dt.strftime('%Y-%m-%d %H:%M:%S')    \n",
    "\n",
    "# Transformation 4: Filtering - Drop Unnecessary Columns\n",
    "columns_to_drop = ['region']  # Example columns to drop\n",
    "transformed_incremental_data.drop(columns=columns_to_drop, inplace=True, errors='ignore')\n",
    "\n",
    "print(transformed_incremental_data.head())"
   ]
  },
  {
   "cell_type": "code",
   "execution_count": 20,
   "id": "76b4367e",
   "metadata": {},
   "outputs": [],
   "source": [
    "# save the transformed incremental data\n",
    "transformed_incremental_data.to_csv(r\"C:\\Users\\ADMIN\\Downloads\\Transformed\\transformed_incremental.csv\", index=False)"
   ]
  }
 ],
 "metadata": {
  "kernelspec": {
   "display_name": "Python 3",
   "language": "python",
   "name": "python3"
  },
  "language_info": {
   "codemirror_mode": {
    "name": "ipython",
    "version": 3
   },
   "file_extension": ".py",
   "mimetype": "text/x-python",
   "name": "python",
   "nbconvert_exporter": "python",
   "pygments_lexer": "ipython3",
   "version": "3.11.9"
  }
 },
 "nbformat": 4,
 "nbformat_minor": 5
}
